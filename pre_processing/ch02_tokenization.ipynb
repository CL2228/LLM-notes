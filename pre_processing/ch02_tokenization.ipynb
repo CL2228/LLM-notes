{
 "cells": [
  {
   "metadata": {},
   "cell_type": "markdown",
   "source": "# This is the notebook for chapter 2 - Tokenization part",
   "id": "7753d41288c4ff98"
  },
  {
   "cell_type": "code",
   "id": "initial_id",
   "metadata": {
    "collapsed": true,
    "ExecuteTime": {
     "end_time": "2024-06-06T05:20:32.278582Z",
     "start_time": "2024-06-06T05:20:32.275494Z"
    }
   },
   "source": "print(\"hello world\")",
   "outputs": [
    {
     "name": "stdout",
     "output_type": "stream",
     "text": [
      "hello world\n"
     ]
    }
   ],
   "execution_count": 12
  },
  {
   "metadata": {
    "ExecuteTime": {
     "end_time": "2024-06-06T05:21:19.459659Z",
     "start_time": "2024-06-06T05:21:19.456905Z"
    }
   },
   "cell_type": "code",
   "source": [
    "# we should have the the-verdict.txt file ready in local env.\n",
    "\n",
    "with open(\"the-verdict.txt\", \"r\", encoding=\"utf-8\") as f:\n",
    "    raw_text = f.read()\n",
    "\n",
    "# inspect the length of words and print a sample\n",
    "print(len(raw_text))\n",
    "print(raw_text[:99])"
   ],
   "id": "f751808d5e716a94",
   "outputs": [
    {
     "name": "stdout",
     "output_type": "stream",
     "text": [
      "20480\n",
      "I HAD always thought Jack Gisburn rather a cheap genius--though a good fellow enough--so it was no \n"
     ]
    }
   ],
   "execution_count": 15
  },
  {
   "metadata": {
    "ExecuteTime": {
     "end_time": "2024-06-06T05:38:11.191586Z",
     "start_time": "2024-06-06T05:38:11.186479Z"
    }
   },
   "cell_type": "code",
   "source": [
    "# sample code to use regular expression to tokenize an input text stream\n",
    "import re\n",
    "sample_text = \"Hello, word. This, is a test.\"\n",
    "\n",
    "# this way we are splitting based on spaces, not ideal because there are punctuation characters attached to words\n",
    "result = re.split(r'(\\s)', sample_text)\n",
    "print(result)\n",
    "\n",
    "# this way we are splitting on whitespaces (\\s), commas, and periods, it's still not ideal because an empty string or a whitespace is an element\n",
    "result = re.split(r'([,.]|\\s)', sample_text)\n",
    "print(result)\n",
    "# we can get rid of spaces with:\n",
    "result = [item for item in result if item.strip()]\n",
    "print(result)\n",
    "\n",
    "# for our short story text we want to also include text like \"--\" when we do tokenization, so we can:\n",
    "sample_text = \"Hello, world. Is this-- a test?\"\n",
    "result = re.split(r'([,.:;?_!\"()\\']|--|\\s)', sample_text)\n",
    "result = [item for item in result if item.strip()]\n",
    "print(result)"
   ],
   "id": "b8ca11f4d17b9157",
   "outputs": [
    {
     "name": "stdout",
     "output_type": "stream",
     "text": [
      "['Hello,', ' ', 'word.', ' ', 'This,', ' ', 'is', ' ', 'a', ' ', 'test.']\n",
      "['Hello', ',', '', ' ', 'word', '.', '', ' ', 'This', ',', '', ' ', 'is', ' ', 'a', ' ', 'test', '.', '']\n",
      "['Hello', ',', 'word', '.', 'This', ',', 'is', 'a', 'test', '.']\n",
      "['Hello', ',', 'world', '.', 'Is', 'this', '--', 'a', 'test', '?']\n"
     ]
    }
   ],
   "execution_count": 19
  },
  {
   "metadata": {
    "ExecuteTime": {
     "end_time": "2024-06-06T05:40:01.830530Z",
     "start_time": "2024-06-06T05:40:01.825920Z"
    }
   },
   "cell_type": "code",
   "source": [
    "# let's use this RE scheme on the input text\n",
    "preprocessed = re.split(r'([,.:;?_!\"()\\']|--|\\s)', raw_text)\n",
    "preprocessed = [item for item in preprocessed if item.strip()]\n",
    "print(len(preprocessed))\n",
    "\n",
    "# let's inspect 30 elements, looks pretty good\n",
    "print(preprocessed[:30])"
   ],
   "id": "a84a6ba9298f0487",
   "outputs": [
    {
     "name": "stdout",
     "output_type": "stream",
     "text": [
      "4690\n",
      "['I', 'HAD', 'always', 'thought', 'Jack', 'Gisburn', 'rather', 'a', 'cheap', 'genius', '--', 'though', 'a', 'good', 'fellow', 'enough', '--', 'so', 'it', 'was', 'no', 'great', 'surprise', 'to', 'me', 'to', 'hear', 'that', ',', 'in']\n"
     ]
    }
   ],
   "execution_count": 22
  },
  {
   "metadata": {},
   "cell_type": "code",
   "outputs": [],
   "execution_count": null,
   "source": "",
   "id": "f12c254c1acdd23a"
  }
 ],
 "metadata": {
  "kernelspec": {
   "display_name": "Python 3",
   "language": "python",
   "name": "python3"
  },
  "language_info": {
   "codemirror_mode": {
    "name": "ipython",
    "version": 2
   },
   "file_extension": ".py",
   "mimetype": "text/x-python",
   "name": "python",
   "nbconvert_exporter": "python",
   "pygments_lexer": "ipython2",
   "version": "2.7.6"
  }
 },
 "nbformat": 4,
 "nbformat_minor": 5
}
